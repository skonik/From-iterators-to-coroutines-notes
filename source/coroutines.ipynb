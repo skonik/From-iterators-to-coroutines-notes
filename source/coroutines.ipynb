{
 "cells": [
  {
   "cell_type": "code",
   "execution_count": 2,
   "metadata": {},
   "outputs": [],
   "source": [
    "import socket, time"
   ]
  },
  {
   "cell_type": "markdown",
   "metadata": {},
   "source": [
    "### Блокирующие сокеты"
   ]
  },
  {
   "cell_type": "code",
   "execution_count": 9,
   "metadata": {},
   "outputs": [],
   "source": [
    "def get(url):\n",
    "    sock = socket.socket()\n",
    "    sock.connect(('google.com', 80))\n",
    "    request = 'GET {} HTTP/1.1\\r\\nHost: google.com\\r\\n\\r\\n'.format(url)\n",
    "    sock.send(bytes(request, encoding='utf-8'))\n",
    "    response = b''\n",
    "    chunk = sock.recv(4096)\n",
    "    while chunk:\n",
    "        response += chunk\n",
    "        chunk = sock.recv(4096)\n",
    "    \n",
    "    return response.decode('utf-8').split()[:3]"
   ]
  },
  {
   "cell_type": "code",
   "execution_count": 10,
   "metadata": {},
   "outputs": [
    {
     "ename": "TypeError",
     "evalue": "unsupported operand type(s) for -: 'builtin_function_or_method' and 'float'",
     "output_type": "error",
     "traceback": [
      "\u001b[0;31m---------------------------------------------------------------------------\u001b[0m",
      "\u001b[0;31mTypeError\u001b[0m                                 Traceback (most recent call last)",
      "\u001b[0;32m<ipython-input-10-6da950e9648d>\u001b[0m in \u001b[0;36m<module>\u001b[0;34m\u001b[0m\n\u001b[1;32m      5\u001b[0m \u001b[0;32mfor\u001b[0m \u001b[0murl\u001b[0m \u001b[0;32min\u001b[0m \u001b[0murls\u001b[0m\u001b[0;34m:\u001b[0m\u001b[0;34m\u001b[0m\u001b[0;34m\u001b[0m\u001b[0m\n\u001b[1;32m      6\u001b[0m     \u001b[0mresponses\u001b[0m\u001b[0;34m.\u001b[0m\u001b[0mappend\u001b[0m\u001b[0;34m(\u001b[0m\u001b[0mget\u001b[0m\u001b[0;34m(\u001b[0m\u001b[0murl\u001b[0m\u001b[0;34m)\u001b[0m\u001b[0;34m)\u001b[0m\u001b[0;34m\u001b[0m\u001b[0;34m\u001b[0m\u001b[0m\n\u001b[0;32m----> 7\u001b[0;31m \u001b[0mprint\u001b[0m\u001b[0;34m(\u001b[0m\u001b[0;34mf\"It took {time.time - start}\"\u001b[0m\u001b[0;34m)\u001b[0m\u001b[0;34m\u001b[0m\u001b[0;34m\u001b[0m\u001b[0m\n\u001b[0m",
      "\u001b[0;31mTypeError\u001b[0m: unsupported operand type(s) for -: 'builtin_function_or_method' and 'float'"
     ]
    }
   ],
   "source": [
    "start = time.time()\n",
    "\n",
    "responses = []\n",
    "urls = ['/', '/test/', '/404']\n",
    "for url in urls:\n",
    "    responses.append(get(url))\n",
    "print(f\"It took {time.time - start}\")"
   ]
  },
  {
   "cell_type": "markdown",
   "metadata": {},
   "source": [
    "### Неблокирующие сокеты"
   ]
  },
  {
   "cell_type": "code",
   "execution_count": 19,
   "metadata": {},
   "outputs": [
    {
     "ename": "BlockingIOError",
     "evalue": "[Errno 115] Operation now in progress",
     "output_type": "error",
     "traceback": [
      "\u001b[0;31m---------------------------------------------------------------------------\u001b[0m",
      "\u001b[0;31mBlockingIOError\u001b[0m                           Traceback (most recent call last)",
      "\u001b[0;32m<ipython-input-19-a0141ceee8d3>\u001b[0m in \u001b[0;36m<module>\u001b[0;34m\u001b[0m\n\u001b[1;32m      1\u001b[0m \u001b[0msock\u001b[0m \u001b[0;34m=\u001b[0m \u001b[0msocket\u001b[0m\u001b[0;34m.\u001b[0m\u001b[0msocket\u001b[0m\u001b[0;34m(\u001b[0m\u001b[0;34m)\u001b[0m\u001b[0;34m\u001b[0m\u001b[0;34m\u001b[0m\u001b[0m\n\u001b[1;32m      2\u001b[0m \u001b[0msock\u001b[0m\u001b[0;34m.\u001b[0m\u001b[0msetblocking\u001b[0m\u001b[0;34m(\u001b[0m\u001b[0;36m0\u001b[0m\u001b[0;34m)\u001b[0m\u001b[0;34m\u001b[0m\u001b[0;34m\u001b[0m\u001b[0m\n\u001b[0;32m----> 3\u001b[0;31m \u001b[0msock\u001b[0m\u001b[0;34m.\u001b[0m\u001b[0mconnect\u001b[0m\u001b[0;34m(\u001b[0m\u001b[0;34m(\u001b[0m\u001b[0;34m'google.com'\u001b[0m\u001b[0;34m,\u001b[0m \u001b[0;36m80\u001b[0m\u001b[0;34m)\u001b[0m\u001b[0;34m)\u001b[0m\u001b[0;34m\u001b[0m\u001b[0;34m\u001b[0m\u001b[0m\n\u001b[0m",
      "\u001b[0;31mBlockingIOError\u001b[0m: [Errno 115] Operation now in progress"
     ]
    }
   ],
   "source": [
    "sock = socket.socket()\n",
    "sock.setblocking(False)\n",
    "sock.connect(('google.com', 80))"
   ]
  },
  {
   "cell_type": "code",
   "execution_count": null,
   "metadata": {},
   "outputs": [],
   "source": [
    "sock = socket.socket()\n",
    "sock.setblocking(False)\n",
    "try:\n",
    "    sock.connect(('google.com', 80))\n",
    "except BlockingIOError:\n",
    "    pass"
   ]
  },
  {
   "cell_type": "markdown",
   "metadata": {},
   "source": [
    "### Селекторы для неблокирующего ввода-вывода\n",
    "Каждый селектор сугубо индивидуален для конкретной ОС. Для выбора наилучшего можно воспользоваться `DefaultSelector`"
   ]
  },
  {
   "cell_type": "code",
   "execution_count": null,
   "metadata": {},
   "outputs": [],
   "source": [
    "from selectors import DefaultSelector, EVENT_WRITE\n",
    "import socket\n",
    "\n",
    "selector = DefaultSelector()\n",
    "\n",
    "def get(url):\n",
    "    sock = socket.socket()\n",
    "    sock.setblocking(False)\n",
    "    try:\n",
    "        sock.connect(('google.com', 80))\n",
    "    except BlockingIOError:\n",
    "        pass\n",
    "    selector.register(sock.fileno(), EVENT_WRITE)\n",
    "    selector.select()\n",
    "    selector.unregister(sock.fileno())\n",
    "    request = 'GET {} HTTP/1.1\\r\\nHost: google.com\\r\\n\\r\\n'.format(url)\n",
    "    sock.send(bytes(request, encoding='utf-8'))\n",
    "    response = b''\n",
    "    chunk = sock.recv(4096)\n",
    "    while chunk:\n",
    "        response += chunk\n",
    "        chunk = sock.recv(4096)\n",
    "    \n",
    "    print(response)"
   ]
  },
  {
   "cell_type": "code",
   "execution_count": 7,
   "metadata": {},
   "outputs": [],
   "source": [
    "from selectors import DefaultSelector, EVENT_WRITE, EVENT_READ\n",
    "import socket\n",
    "\n",
    "selector = DefaultSelector()\n",
    "\n",
    "def get(url):\n",
    "    sock = socket.socket()\n",
    "    sock.setblocking(False)\n",
    "    try:\n",
    "        sock.connect(('google.com', 80))\n",
    "    except BlockingIOError:\n",
    "        pass\n",
    "    selector.register(sock.fileno(), EVENT_WRITE)\n",
    "    selector.select()\n",
    "    request = 'GET {} HTTP/1.1\\r\\nHost: google.com\\r\\n\\r\\n'.format(url)\n",
    "    selector.unregister(sock.fileno())\n",
    "    sock.send(bytes(request, encoding='utf-8'))\n",
    "    response = b''\n",
    "    selector.register(sock.fileno(), EVENT_READ)\n",
    "    selecor.select()\n",
    "    selector.unregister(sock.fileno())\n",
    "    chunk = sock.recv(4096)\n",
    "    while chunk:\n",
    "        response += chunk\n",
    "        selector.register(sock.fileno(), EVENT_READ)\n",
    "        selecor.select()\n",
    "        selector.unregister(sock.fileno())\n",
    "        chunk = sock.recv(4096)\n",
    "    \n",
    "    print(response)"
   ]
  },
  {
   "cell_type": "markdown",
   "metadata": {},
   "source": [
    "## Callback!"
   ]
  },
  {
   "cell_type": "code",
   "execution_count": null,
   "metadata": {},
   "outputs": [],
   "source": [
    "def on_readable(sock, request):\n",
    "    selector.unregister(sock.fileno())\n",
    "    sock.send(bytes(request, encoding='utf-8'))\n",
    "    response = b''\n",
    "    selector.register(sock.fileno(), EVENT_READ)\n",
    "    selecor.select()\n",
    "    selector.unregister(sock.fileno())\n",
    "    chunk = sock.recv(4096)\n",
    "    while chunk:\n",
    "        response += chunk\n",
    "        selector.register(sock.fileno(), EVENT_READ)\n",
    "        selecor.select()\n",
    "        selector.unregister(sock.fileno())\n",
    "        chunk = sock.recv(4096)\n",
    "    \n",
    "    print(response)\n",
    "    \n",
    "def get(url):\n",
    "    sock = socket.socket()\n",
    "    sock.setblocking(False)\n",
    "    try:\n",
    "        sock.connect(('google.com', 80))\n",
    "    except BlockingIOError:\n",
    "        pass\n",
    "    \n",
    "    request = 'GET {} HTTP/1.1\\r\\nHost: google.com\\r\\n\\r\\n'.format(url)\n",
    "    # Замыкание \n",
    "    callback = lambda: on_connected(sock, request)\n",
    "    selector.register(sock.fileno(), EVENT_WRITE)\n",
    "    selector.select()\n",
    "    callback()\n",
    "\n"
   ]
  },
  {
   "cell_type": "code",
   "execution_count": null,
   "metadata": {},
   "outputs": [],
   "source": [
    "while True:\n",
    "    events = selector.select()\n",
    "    \n",
    "    for key, mask in events:\n",
    "        callback = key.data\n",
    "        callback()"
   ]
  }
 ],
 "metadata": {
  "kernelspec": {
   "display_name": "Python 3",
   "language": "python",
   "name": "python3"
  },
  "language_info": {
   "codemirror_mode": {
    "name": "ipython",
    "version": 3
   },
   "file_extension": ".py",
   "mimetype": "text/x-python",
   "name": "python",
   "nbconvert_exporter": "python",
   "pygments_lexer": "ipython3",
   "version": "3.7.2"
  }
 },
 "nbformat": 4,
 "nbformat_minor": 2
}
